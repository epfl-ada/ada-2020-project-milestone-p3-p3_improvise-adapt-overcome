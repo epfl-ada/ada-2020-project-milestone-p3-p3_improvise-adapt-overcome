{
 "cells": [
  {
   "cell_type": "code",
   "execution_count": 1,
   "metadata": {},
   "outputs": [],
   "source": [
    "import pandas as pd\n",
    "import numpy as np\n",
    "from scipy import stats\n",
    "from sklearn.linear_model import LinearRegression\n",
    "import statsmodels.formula.api as smf\n",
    "import matplotlib.pyplot as plt\n",
    "import seaborn as sns\n",
    "sns.set_style(style=\"whitegrid\")"
   ]
  },
  {
   "cell_type": "code",
   "execution_count": 2,
   "metadata": {},
   "outputs": [],
   "source": [
    "from sklearn.ensemble import RandomForestClassifier\n",
    "from sklearn.model_selection import cross_val_score, train_test_split\n",
    "from sklearn.metrics import accuracy_score, confusion_matrix, precision_score, recall_score\n",
    "from sklearn.model_selection import validation_curve\n",
    "from sklearn.model_selection import StratifiedKFold\n",
    "from sklearn.neighbors import KNeighborsClassifier\n",
    "\n",
    "SEED = 1"
   ]
  },
  {
   "cell_type": "markdown",
   "metadata": {},
   "source": [
    "# Summary\n",
    "\n",
    "- 1. Load and clean data\n",
    "- 2. Healthy score \n",
    "    - 2.1 Healthy score according to Wikipedia\n",
    "    - 2.2 Healthy score according to the FDA\n",
    "    - 2.3 Plot well-being as a function of different features and the three scores \n",
    "- 3. Spearman rank correlation\n",
    "- 4. Regression\n",
    "    - 4.1 Ordinary Least Squares regression\n",
    "    - 4.2 Logit regression on the well-being\n",
    "- 5. Classifier"
   ]
  },
  {
   "cell_type": "code",
   "execution_count": 3,
   "metadata": {},
   "outputs": [],
   "source": [
    "def plot_validation_curve(train_scores, cv_scores, x_data, y_label='', x_label='', ylim=[0,1.1], title='Validation Curve', ax=None, save_image=False, save_name=\"plot\"):    \n",
    "    \"\"\" \n",
    "    Plot a validation curve using train_scores and cv_scores.\n",
    "    \n",
    "    Input:\n",
    "        train_scores  scores of the training\n",
    "        cv_scores     scores of the cross-validation\n",
    "        x_data        x axis (number of trees for random forest for example)\n",
    "        x_label       label of x-axis\n",
    "        y_label       label of y-axis\n",
    "        ylim          span of the y axis\n",
    "        title         title of the plot\n",
    "        ax            ax of the plot\n",
    "    \"\"\"\n",
    "    \n",
    "    train_scores_mean = np.mean(train_scores, axis=1)\n",
    "    train_scores_std = np.std(train_scores, axis=1)\n",
    "    cv_scores_mean = np.mean(cv_scores, axis=1)\n",
    "    cv_scores_std = np.std(cv_scores, axis=1)\n",
    "\n",
    "    lw = 2\n",
    "    \n",
    "    if ax == None: \n",
    "        plt.title(title, fontsize=20)\n",
    "        plt.xlabel(x_label, fontsize=15)\n",
    "        plt.ylabel(y_label, fontsize=15)\n",
    "        plt.ylim(ylim)\n",
    "        \n",
    "        plt.plot(x_data, train_scores_mean, 'o-', label=\"Training score\", color=\"darkorange\", lw=lw)\n",
    "        plt.fill_between(x_data, train_scores_mean - train_scores_std, train_scores_mean + train_scores_std, alpha=0.2, color=\"darkorange\", lw=lw)\n",
    "\n",
    "        plt.plot(x_data, cv_scores_mean, 'o-', label=\"Test score\", color=\"navy\", lw=lw)\n",
    "        plt.fill_between(x_data, cv_scores_mean - cv_scores_std, cv_scores_mean + cv_scores_std, alpha=0.2, color=\"navy\", lw=lw)\n",
    "        plt.legend(loc='best', fontsize=15)\n",
    "    else:\n",
    "        ax.set_title(title, fontsize=20)\n",
    "        ax.set_xlabel(x_label, fontsize=15)\n",
    "        ax.set_ylabel(y_label, fontsize=15)\n",
    "        ax.set_ylim(ylim)\n",
    "        \n",
    "        ax.plot(x_data, train_scores_mean, 'o-', label=\"Training score\", color=\"darkorange\", lw=lw)\n",
    "        ax.fill_between(x_data, train_scores_mean - train_scores_std, train_scores_mean + train_scores_std, alpha=0.2, color=\"darkorange\", lw=lw)\n",
    "\n",
    "        ax.plot(x_data, cv_scores_mean, 'o-', label=\"Test score\", color=\"navy\", lw=lw)\n",
    "        ax.fill_between(x_data, cv_scores_mean - cv_scores_std, cv_scores_mean + cv_scores_std, alpha=0.2, color=\"navy\", lw=lw)\n",
    "        ax.legend(loc=\"best\", fontsize=15)\n",
    "        \n",
    "    if save_image:\n",
    "        fig = plt.gcf()\n",
    "        fig.savefig(\"images\\%s\"%save_name, bbox_inches='tight')"
   ]
  },
  {
   "cell_type": "code",
   "execution_count": 4,
   "metadata": {},
   "outputs": [],
   "source": [
    "def plot_confusion_matrix(cm, title='Confusion Matrix', ax=None, save_image=False, save_name=\"plot\"):\n",
    "    \"\"\" \n",
    "    Function to plot a sklearn confusion matrix, showing number of cases per prediction condition. \n",
    "    The cm parameter can be an object created by the sklearn confusion_matrix() function.\n",
    "    \n",
    "    Input:\n",
    "        cm         sklearn confusion matrix \n",
    "        title      title of the plot\n",
    "        ax         ax of the plot if given\n",
    "    \"\"\"\n",
    "    \n",
    "    sns.heatmap(data=pd.DataFrame(cm), vmin=0, annot=True, square=True, cmap=plt.cm.Reds, fmt='g', ax=ax)\n",
    "    if ax == None:\n",
    "        plt.xlabel('Predicted label', fontsize=15)\n",
    "        plt.ylabel('True label', fontsize=15)\n",
    "        plt.title(title, fontsize=20)\n",
    "    else:\n",
    "        ax.set_xlabel('Predicted label', fontsize=15)\n",
    "        ax.set_ylabel('True label', fontsize=15)\n",
    "        ax.set_title(title, fontsize=20)\n",
    "    \n",
    "    if save_image:\n",
    "        fig = plt.gcf()\n",
    "        fig.savefig(\"images\\%s\"%save_name, bbox_inches='tight')"
   ]
  },
  {
   "cell_type": "markdown",
   "metadata": {},
   "source": [
    "# 1. Load and clean data"
   ]
  },
  {
   "cell_type": "code",
   "execution_count": 5,
   "metadata": {},
   "outputs": [],
   "source": [
    "df_well_being_raw = pd.read_excel(\"data/london-ward-well-being-probability-scores.xls\", sheet_name=\"Dashboard\", skiprows=12)\n",
    "df_grocery_raw = pd.read_csv('data/year_osward_grocery.csv')"
   ]
  },
  {
   "cell_type": "code",
   "execution_count": 6,
   "metadata": {},
   "outputs": [
    {
     "data": {
      "text/html": [
       "<div>\n",
       "<style scoped>\n",
       "    .dataframe tbody tr th:only-of-type {\n",
       "        vertical-align: middle;\n",
       "    }\n",
       "\n",
       "    .dataframe tbody tr th {\n",
       "        vertical-align: top;\n",
       "    }\n",
       "\n",
       "    .dataframe thead th {\n",
       "        text-align: right;\n",
       "    }\n",
       "</style>\n",
       "<table border=\"1\" class=\"dataframe\">\n",
       "  <thead>\n",
       "    <tr style=\"text-align: right;\">\n",
       "      <th></th>\n",
       "      <th>Borough name</th>\n",
       "      <th>Ward Code</th>\n",
       "      <th>Ward name</th>\n",
       "      <th>Unnamed: 3</th>\n",
       "      <th>Unnamed: 4</th>\n",
       "      <th>2009</th>\n",
       "      <th>2010</th>\n",
       "      <th>2011</th>\n",
       "      <th>2012</th>\n",
       "      <th>2013</th>\n",
       "      <th>Unnamed: 10</th>\n",
       "      <th>Unnamed: 11</th>\n",
       "      <th>See full data set (e.g. numbers/rates)</th>\n",
       "      <th>Unnamed: 13</th>\n",
       "      <th>Unnamed: 14</th>\n",
       "      <th>Unnamed: 15</th>\n",
       "      <th>Unnamed: 16</th>\n",
       "      <th>Unnamed: 17</th>\n",
       "      <th>Unnamed: 18</th>\n",
       "      <th>Unnamed: 19</th>\n",
       "    </tr>\n",
       "  </thead>\n",
       "  <tbody>\n",
       "    <tr>\n",
       "      <th>0</th>\n",
       "      <td>City of London</td>\n",
       "      <td>E09000001</td>\n",
       "      <td>City of London</td>\n",
       "      <td>NaN</td>\n",
       "      <td>NaN</td>\n",
       "      <td>3.868138</td>\n",
       "      <td>2.584469</td>\n",
       "      <td>2.159794</td>\n",
       "      <td>1.046416</td>\n",
       "      <td>1.420837</td>\n",
       "      <td>NaN</td>\n",
       "      <td>-0.611825</td>\n",
       "      <td>NaN</td>\n",
       "      <td>NaN</td>\n",
       "      <td>NaN</td>\n",
       "      <td>-1.283670</td>\n",
       "      <td>-0.424675</td>\n",
       "      <td>-1.113377</td>\n",
       "      <td>0.374420</td>\n",
       "      <td>-0.611825</td>\n",
       "    </tr>\n",
       "    <tr>\n",
       "      <th>1</th>\n",
       "      <td>Barking and Dagenham</td>\n",
       "      <td>E05000026</td>\n",
       "      <td>Abbey</td>\n",
       "      <td>NaN</td>\n",
       "      <td>NaN</td>\n",
       "      <td>3.695918</td>\n",
       "      <td>3.854677</td>\n",
       "      <td>2.949578</td>\n",
       "      <td>1.542211</td>\n",
       "      <td>0.699065</td>\n",
       "      <td>NaN</td>\n",
       "      <td>-0.749213</td>\n",
       "      <td>NaN</td>\n",
       "      <td>NaN</td>\n",
       "      <td>NaN</td>\n",
       "      <td>0.158758</td>\n",
       "      <td>-0.905099</td>\n",
       "      <td>-1.407367</td>\n",
       "      <td>-0.843146</td>\n",
       "      <td>NaN</td>\n",
       "    </tr>\n",
       "  </tbody>\n",
       "</table>\n",
       "</div>"
      ],
      "text/plain": [
       "           Borough name  Ward Code       Ward name  Unnamed: 3  Unnamed: 4  \\\n",
       "0        City of London  E09000001  City of London         NaN         NaN   \n",
       "1  Barking and Dagenham  E05000026           Abbey         NaN         NaN   \n",
       "\n",
       "       2009      2010      2011      2012      2013  Unnamed: 10  Unnamed: 11  \\\n",
       "0  3.868138  2.584469  2.159794  1.046416  1.420837          NaN    -0.611825   \n",
       "1  3.695918  3.854677  2.949578  1.542211  0.699065          NaN    -0.749213   \n",
       "\n",
       "   See full data set (e.g. numbers/rates)  Unnamed: 13  Unnamed: 14  \\\n",
       "0                                     NaN          NaN          NaN   \n",
       "1                                     NaN          NaN          NaN   \n",
       "\n",
       "   Unnamed: 15  Unnamed: 16  Unnamed: 17  Unnamed: 18  Unnamed: 19  \n",
       "0    -1.283670    -0.424675    -1.113377     0.374420    -0.611825  \n",
       "1     0.158758    -0.905099    -1.407367    -0.843146          NaN  "
      ]
     },
     "execution_count": 6,
     "metadata": {},
     "output_type": "execute_result"
    }
   ],
   "source": [
    "df_well_being_raw.head(2)"
   ]
  },
  {
   "cell_type": "markdown",
   "metadata": {},
   "source": [
    "We chose to keep only the well being for the year 2013. The criteria to compute the well being are life expectancy, childhood obesity and happiness. As stated in the dataframe, \"[well-being] scores over 0 indicate a higher probability that the population on average experiences positive well-being according to these measures.\""
   ]
  },
  {
   "cell_type": "code",
   "execution_count": 7,
   "metadata": {},
   "outputs": [],
   "source": [
    "df_well = df_well_being_raw[[\"Ward Code\", 2013]]\n",
    "df_well.columns = ['area_id', 'well_being']\n",
    "df_well = df_well.drop(0)\n",
    "df_well = df_well.dropna()"
   ]
  },
  {
   "cell_type": "code",
   "execution_count": 8,
   "metadata": {},
   "outputs": [
    {
     "data": {
      "text/html": [
       "<div>\n",
       "<style scoped>\n",
       "    .dataframe tbody tr th:only-of-type {\n",
       "        vertical-align: middle;\n",
       "    }\n",
       "\n",
       "    .dataframe tbody tr th {\n",
       "        vertical-align: top;\n",
       "    }\n",
       "\n",
       "    .dataframe thead th {\n",
       "        text-align: right;\n",
       "    }\n",
       "</style>\n",
       "<table border=\"1\" class=\"dataframe\">\n",
       "  <thead>\n",
       "    <tr style=\"text-align: right;\">\n",
       "      <th></th>\n",
       "      <th>area_id</th>\n",
       "      <th>well_being</th>\n",
       "    </tr>\n",
       "  </thead>\n",
       "  <tbody>\n",
       "    <tr>\n",
       "      <th>1</th>\n",
       "      <td>E05000026</td>\n",
       "      <td>0.699065</td>\n",
       "    </tr>\n",
       "    <tr>\n",
       "      <th>2</th>\n",
       "      <td>E05000027</td>\n",
       "      <td>-8.902220</td>\n",
       "    </tr>\n",
       "  </tbody>\n",
       "</table>\n",
       "</div>"
      ],
      "text/plain": [
       "     area_id  well_being\n",
       "1  E05000026    0.699065\n",
       "2  E05000027   -8.902220"
      ]
     },
     "execution_count": 8,
     "metadata": {},
     "output_type": "execute_result"
    }
   ],
   "source": [
    "df_well.head(2)"
   ]
  },
  {
   "cell_type": "code",
   "execution_count": 9,
   "metadata": {},
   "outputs": [],
   "source": [
    "# Select the columns of interest in the grocery DataFrame\n",
    "\n",
    "df_grocery = df_grocery_raw[[\"area_id\", \"fat\", \"saturate\", \"salt\", \"sugar\", \"protein\", \"carb\", \"fibre\", \"alcohol\", \"energy_fat\", \n",
    "                             \"energy_saturate\",\"energy_sugar\", \"energy_protein\", \"energy_carb\", \"energy_fibre\", \"energy_alcohol\", \n",
    "                             \"energy_tot\", \"h_nutrients_weight_norm\", \"h_nutrients_calories_norm\", \"f_beer\", \"f_dairy\", \"f_eggs\",\n",
    "                             \"f_fats_oils\", \"f_fish\", \"f_fruit_veg\", \"f_grains\", \"f_meat_red\", \"f_poultry\", \"f_readymade\",\n",
    "                             \"f_sauces\", \"f_soft_drinks\", \"f_spirits\", \"f_sweets\", \"f_tea_coffee\", \"f_water\", \"f_wine\",\n",
    "                             \"f_fruit_veg_weight\", \"f_grains_weight\", \"f_dairy_weight\", \"f_meat_red_weight\", \"f_poultry_weight\",\n",
    "                             \"f_eggs_weight\", \"f_fish_weight\"]]\n",
    "\n",
    "# Compute the percentage of weight for fda nutrients and energy of nutrients\n",
    "nutrients = [\"fat\", \"protein\", \"carb\", \"fibre\", \"alcohol\"]\n",
    "fda_nutrients = [\"fat\", \"fibre\", \"carb\", \"protein\", \"saturate\"]\n",
    "weight_tot = df_grocery[fda_nutrients].sum(axis=1)\n",
    "df_grocery_percentage = df_grocery.copy()\n",
    "\n",
    "for nutrient in nutrients:\n",
    "    df_grocery_percentage[\"percentage_%s_energy\"%nutrient] = df_grocery_percentage[\"energy_%s\"%nutrient] *100 / df_grocery[\"energy_tot\"]\n",
    "\n",
    "for nutrient in fda_nutrients:\n",
    "    df_grocery_percentage[\"percentage_%s_weight\"%nutrient] = df_grocery_percentage[\"%s\"%nutrient] *100 / weight_tot"
   ]
  },
  {
   "cell_type": "code",
   "execution_count": 10,
   "metadata": {},
   "outputs": [
    {
     "data": {
      "text/html": [
       "<div>\n",
       "<style scoped>\n",
       "    .dataframe tbody tr th:only-of-type {\n",
       "        vertical-align: middle;\n",
       "    }\n",
       "\n",
       "    .dataframe tbody tr th {\n",
       "        vertical-align: top;\n",
       "    }\n",
       "\n",
       "    .dataframe thead th {\n",
       "        text-align: right;\n",
       "    }\n",
       "</style>\n",
       "<table border=\"1\" class=\"dataframe\">\n",
       "  <thead>\n",
       "    <tr style=\"text-align: right;\">\n",
       "      <th></th>\n",
       "      <th>area_id</th>\n",
       "      <th>fat</th>\n",
       "      <th>saturate</th>\n",
       "      <th>salt</th>\n",
       "      <th>sugar</th>\n",
       "      <th>protein</th>\n",
       "      <th>carb</th>\n",
       "      <th>fibre</th>\n",
       "      <th>alcohol</th>\n",
       "      <th>energy_fat</th>\n",
       "      <th>...</th>\n",
       "      <th>percentage_fat_energy</th>\n",
       "      <th>percentage_protein_energy</th>\n",
       "      <th>percentage_carb_energy</th>\n",
       "      <th>percentage_fibre_energy</th>\n",
       "      <th>percentage_alcohol_energy</th>\n",
       "      <th>percentage_fat_weight</th>\n",
       "      <th>percentage_fibre_weight</th>\n",
       "      <th>percentage_carb_weight</th>\n",
       "      <th>percentage_protein_weight</th>\n",
       "      <th>percentage_saturate_weight</th>\n",
       "    </tr>\n",
       "  </thead>\n",
       "  <tbody>\n",
       "    <tr>\n",
       "      <th>0</th>\n",
       "      <td>E05000026</td>\n",
       "      <td>9.488797</td>\n",
       "      <td>3.693721</td>\n",
       "      <td>0.583240</td>\n",
       "      <td>10.966213</td>\n",
       "      <td>4.977560</td>\n",
       "      <td>19.381951</td>\n",
       "      <td>1.564721</td>\n",
       "      <td>0.198172</td>\n",
       "      <td>85.399176</td>\n",
       "      <td>...</td>\n",
       "      <td>45.640000</td>\n",
       "      <td>10.640657</td>\n",
       "      <td>41.433292</td>\n",
       "      <td>1.544686</td>\n",
       "      <td>0.741364</td>\n",
       "      <td>24.263835</td>\n",
       "      <td>4.001153</td>\n",
       "      <td>49.561651</td>\n",
       "      <td>12.728135</td>\n",
       "      <td>9.445226</td>\n",
       "    </tr>\n",
       "    <tr>\n",
       "      <th>1</th>\n",
       "      <td>E05000027</td>\n",
       "      <td>9.733634</td>\n",
       "      <td>3.565913</td>\n",
       "      <td>0.568184</td>\n",
       "      <td>10.514427</td>\n",
       "      <td>5.211694</td>\n",
       "      <td>18.950348</td>\n",
       "      <td>1.581960</td>\n",
       "      <td>0.209917</td>\n",
       "      <td>87.602703</td>\n",
       "      <td>...</td>\n",
       "      <td>46.439549</td>\n",
       "      <td>11.051200</td>\n",
       "      <td>40.183491</td>\n",
       "      <td>1.546797</td>\n",
       "      <td>0.778963</td>\n",
       "      <td>24.930197</td>\n",
       "      <td>4.051784</td>\n",
       "      <td>48.536438</td>\n",
       "      <td>13.348414</td>\n",
       "      <td>9.133168</td>\n",
       "    </tr>\n",
       "  </tbody>\n",
       "</table>\n",
       "<p>2 rows × 53 columns</p>\n",
       "</div>"
      ],
      "text/plain": [
       "     area_id       fat  saturate      salt      sugar   protein       carb  \\\n",
       "0  E05000026  9.488797  3.693721  0.583240  10.966213  4.977560  19.381951   \n",
       "1  E05000027  9.733634  3.565913  0.568184  10.514427  5.211694  18.950348   \n",
       "\n",
       "      fibre   alcohol  energy_fat  ...  percentage_fat_energy  \\\n",
       "0  1.564721  0.198172   85.399176  ...              45.640000   \n",
       "1  1.581960  0.209917   87.602703  ...              46.439549   \n",
       "\n",
       "   percentage_protein_energy  percentage_carb_energy  percentage_fibre_energy  \\\n",
       "0                  10.640657               41.433292                 1.544686   \n",
       "1                  11.051200               40.183491                 1.546797   \n",
       "\n",
       "   percentage_alcohol_energy  percentage_fat_weight  percentage_fibre_weight  \\\n",
       "0                   0.741364              24.263835                 4.001153   \n",
       "1                   0.778963              24.930197                 4.051784   \n",
       "\n",
       "   percentage_carb_weight  percentage_protein_weight  \\\n",
       "0               49.561651                  12.728135   \n",
       "1               48.536438                  13.348414   \n",
       "\n",
       "   percentage_saturate_weight  \n",
       "0                    9.445226  \n",
       "1                    9.133168  \n",
       "\n",
       "[2 rows x 53 columns]"
      ]
     },
     "execution_count": 10,
     "metadata": {},
     "output_type": "execute_result"
    }
   ],
   "source": [
    "df_grocery_percentage.head(2)"
   ]
  },
  {
   "cell_type": "code",
   "execution_count": 11,
   "metadata": {},
   "outputs": [],
   "source": [
    "# Merge the grocery DataFrame with the well-being one\n",
    "df = df_well.merge(df_grocery_percentage, on='area_id')"
   ]
  },
  {
   "cell_type": "code",
   "execution_count": 12,
   "metadata": {},
   "outputs": [
    {
     "data": {
      "text/html": [
       "<div>\n",
       "<style scoped>\n",
       "    .dataframe tbody tr th:only-of-type {\n",
       "        vertical-align: middle;\n",
       "    }\n",
       "\n",
       "    .dataframe tbody tr th {\n",
       "        vertical-align: top;\n",
       "    }\n",
       "\n",
       "    .dataframe thead th {\n",
       "        text-align: right;\n",
       "    }\n",
       "</style>\n",
       "<table border=\"1\" class=\"dataframe\">\n",
       "  <thead>\n",
       "    <tr style=\"text-align: right;\">\n",
       "      <th></th>\n",
       "      <th>area_id</th>\n",
       "      <th>well_being</th>\n",
       "      <th>fat</th>\n",
       "      <th>saturate</th>\n",
       "      <th>salt</th>\n",
       "      <th>sugar</th>\n",
       "      <th>protein</th>\n",
       "      <th>carb</th>\n",
       "      <th>fibre</th>\n",
       "      <th>alcohol</th>\n",
       "      <th>...</th>\n",
       "      <th>percentage_fat_energy</th>\n",
       "      <th>percentage_protein_energy</th>\n",
       "      <th>percentage_carb_energy</th>\n",
       "      <th>percentage_fibre_energy</th>\n",
       "      <th>percentage_alcohol_energy</th>\n",
       "      <th>percentage_fat_weight</th>\n",
       "      <th>percentage_fibre_weight</th>\n",
       "      <th>percentage_carb_weight</th>\n",
       "      <th>percentage_protein_weight</th>\n",
       "      <th>percentage_saturate_weight</th>\n",
       "    </tr>\n",
       "  </thead>\n",
       "  <tbody>\n",
       "    <tr>\n",
       "      <th>0</th>\n",
       "      <td>E05000026</td>\n",
       "      <td>0.699065</td>\n",
       "      <td>9.488797</td>\n",
       "      <td>3.693721</td>\n",
       "      <td>0.583240</td>\n",
       "      <td>10.966213</td>\n",
       "      <td>4.977560</td>\n",
       "      <td>19.381951</td>\n",
       "      <td>1.564721</td>\n",
       "      <td>0.198172</td>\n",
       "      <td>...</td>\n",
       "      <td>45.640000</td>\n",
       "      <td>10.640657</td>\n",
       "      <td>41.433292</td>\n",
       "      <td>1.544686</td>\n",
       "      <td>0.741364</td>\n",
       "      <td>24.263835</td>\n",
       "      <td>4.001153</td>\n",
       "      <td>49.561651</td>\n",
       "      <td>12.728135</td>\n",
       "      <td>9.445226</td>\n",
       "    </tr>\n",
       "    <tr>\n",
       "      <th>1</th>\n",
       "      <td>E05000027</td>\n",
       "      <td>-8.902220</td>\n",
       "      <td>9.733634</td>\n",
       "      <td>3.565913</td>\n",
       "      <td>0.568184</td>\n",
       "      <td>10.514427</td>\n",
       "      <td>5.211694</td>\n",
       "      <td>18.950348</td>\n",
       "      <td>1.581960</td>\n",
       "      <td>0.209917</td>\n",
       "      <td>...</td>\n",
       "      <td>46.439549</td>\n",
       "      <td>11.051200</td>\n",
       "      <td>40.183491</td>\n",
       "      <td>1.546797</td>\n",
       "      <td>0.778963</td>\n",
       "      <td>24.930197</td>\n",
       "      <td>4.051784</td>\n",
       "      <td>48.536438</td>\n",
       "      <td>13.348414</td>\n",
       "      <td>9.133168</td>\n",
       "    </tr>\n",
       "  </tbody>\n",
       "</table>\n",
       "<p>2 rows × 54 columns</p>\n",
       "</div>"
      ],
      "text/plain": [
       "     area_id  well_being       fat  saturate      salt      sugar   protein  \\\n",
       "0  E05000026    0.699065  9.488797  3.693721  0.583240  10.966213  4.977560   \n",
       "1  E05000027   -8.902220  9.733634  3.565913  0.568184  10.514427  5.211694   \n",
       "\n",
       "        carb     fibre   alcohol  ...  percentage_fat_energy  \\\n",
       "0  19.381951  1.564721  0.198172  ...              45.640000   \n",
       "1  18.950348  1.581960  0.209917  ...              46.439549   \n",
       "\n",
       "   percentage_protein_energy  percentage_carb_energy  percentage_fibre_energy  \\\n",
       "0                  10.640657               41.433292                 1.544686   \n",
       "1                  11.051200               40.183491                 1.546797   \n",
       "\n",
       "   percentage_alcohol_energy  percentage_fat_weight  percentage_fibre_weight  \\\n",
       "0                   0.741364              24.263835                 4.001153   \n",
       "1                   0.778963              24.930197                 4.051784   \n",
       "\n",
       "   percentage_carb_weight  percentage_protein_weight  \\\n",
       "0               49.561651                  12.728135   \n",
       "1               48.536438                  13.348414   \n",
       "\n",
       "   percentage_saturate_weight  \n",
       "0                    9.445226  \n",
       "1                    9.133168  \n",
       "\n",
       "[2 rows x 54 columns]"
      ]
     },
     "execution_count": 12,
     "metadata": {},
     "output_type": "execute_result"
    }
   ],
   "source": [
    "df.head(2)"
   ]
  },
  {
   "cell_type": "markdown",
   "metadata": {},
   "source": [
    "# 2. Healthy score \n",
    "## 2.1 Healthy score according to Wikipedia\n",
    "source: https://en.wikipedia.org/wiki/Healthy_diet\n",
    "\n",
    "We used the table of \"three healthy patterns\" and picked the U.S. style. We converted all quantities in daily cups and computed the percentage of each food that lead to a healthy diet according to Wikipedia."
   ]
  },
  {
   "cell_type": "code",
   "execution_count": 13,
   "metadata": {},
   "outputs": [],
   "source": [
    "foods = dict(zip([\"fruit_veg\", \"grains\", \"dairy\", \"meat_red\", \"poultry\", \"eggs\", \"fish\"], [4.5, 0.75, 3, 1.5/7, 1.25/7, 0.375/7, 1/7]))\n",
    "sum_values = sum(foods.values())\n",
    "\n",
    "for food in foods.keys():\n",
    "    foods[food] = foods[food]/sum_values"
   ]
  },
  {
   "cell_type": "code",
   "execution_count": 14,
   "metadata": {},
   "outputs": [
    {
     "data": {
      "text/plain": [
       "{'fruit_veg': 0.5090909090909091,\n",
       " 'grains': 0.08484848484848485,\n",
       " 'dairy': 0.3393939393939394,\n",
       " 'meat_red': 0.024242424242424242,\n",
       " 'poultry': 0.020202020202020204,\n",
       " 'eggs': 0.006060606060606061,\n",
       " 'fish': 0.01616161616161616}"
      ]
     },
     "execution_count": 14,
     "metadata": {},
     "output_type": "execute_result"
    }
   ],
   "source": [
    "# foods is a dictionnary containing the percentage of type of food recommended per day\n",
    "foods"
   ]
  },
  {
   "cell_type": "markdown",
   "metadata": {},
   "source": [
    "Create a \"score\" column in the DataFrame using:\n",
    "\n",
    "$ score = 1 - \\sum_{nutrient} (HealthyPortion_{nutrient} - f_{nutrient})^2$\n",
    "\n",
    "The higher the score, the healthier the area eats. "
   ]
  },
  {
   "cell_type": "code",
   "execution_count": 15,
   "metadata": {},
   "outputs": [],
   "source": [
    "df_healthy = df.copy()\n",
    "df_healthy.loc[:,\"score\"] =0\n",
    "for food in foods:\n",
    "    df_healthy[\"score\"] += (df_healthy[\"f_%s\"%food] - foods[food])**2\n",
    "    \n",
    "df_healthy[\"score\"] = 1 - df_healthy[\"score\"]"
   ]
  },
  {
   "cell_type": "code",
   "execution_count": 16,
   "metadata": {},
   "outputs": [
    {
     "data": {
      "text/html": [
       "<div>\n",
       "<style scoped>\n",
       "    .dataframe tbody tr th:only-of-type {\n",
       "        vertical-align: middle;\n",
       "    }\n",
       "\n",
       "    .dataframe tbody tr th {\n",
       "        vertical-align: top;\n",
       "    }\n",
       "\n",
       "    .dataframe thead th {\n",
       "        text-align: right;\n",
       "    }\n",
       "</style>\n",
       "<table border=\"1\" class=\"dataframe\">\n",
       "  <thead>\n",
       "    <tr style=\"text-align: right;\">\n",
       "      <th></th>\n",
       "      <th>area_id</th>\n",
       "      <th>well_being</th>\n",
       "      <th>fat</th>\n",
       "      <th>saturate</th>\n",
       "      <th>salt</th>\n",
       "      <th>sugar</th>\n",
       "      <th>protein</th>\n",
       "      <th>carb</th>\n",
       "      <th>fibre</th>\n",
       "      <th>alcohol</th>\n",
       "      <th>...</th>\n",
       "      <th>percentage_protein_energy</th>\n",
       "      <th>percentage_carb_energy</th>\n",
       "      <th>percentage_fibre_energy</th>\n",
       "      <th>percentage_alcohol_energy</th>\n",
       "      <th>percentage_fat_weight</th>\n",
       "      <th>percentage_fibre_weight</th>\n",
       "      <th>percentage_carb_weight</th>\n",
       "      <th>percentage_protein_weight</th>\n",
       "      <th>percentage_saturate_weight</th>\n",
       "      <th>score</th>\n",
       "    </tr>\n",
       "  </thead>\n",
       "  <tbody>\n",
       "    <tr>\n",
       "      <th>0</th>\n",
       "      <td>E05000026</td>\n",
       "      <td>0.699065</td>\n",
       "      <td>9.488797</td>\n",
       "      <td>3.693721</td>\n",
       "      <td>0.583240</td>\n",
       "      <td>10.966213</td>\n",
       "      <td>4.977560</td>\n",
       "      <td>19.381951</td>\n",
       "      <td>1.564721</td>\n",
       "      <td>0.198172</td>\n",
       "      <td>...</td>\n",
       "      <td>10.640657</td>\n",
       "      <td>41.433292</td>\n",
       "      <td>1.544686</td>\n",
       "      <td>0.741364</td>\n",
       "      <td>24.263835</td>\n",
       "      <td>4.001153</td>\n",
       "      <td>49.561651</td>\n",
       "      <td>12.728135</td>\n",
       "      <td>9.445226</td>\n",
       "      <td>0.874300</td>\n",
       "    </tr>\n",
       "    <tr>\n",
       "      <th>1</th>\n",
       "      <td>E05000027</td>\n",
       "      <td>-8.902220</td>\n",
       "      <td>9.733634</td>\n",
       "      <td>3.565913</td>\n",
       "      <td>0.568184</td>\n",
       "      <td>10.514427</td>\n",
       "      <td>5.211694</td>\n",
       "      <td>18.950348</td>\n",
       "      <td>1.581960</td>\n",
       "      <td>0.209917</td>\n",
       "      <td>...</td>\n",
       "      <td>11.051200</td>\n",
       "      <td>40.183491</td>\n",
       "      <td>1.546797</td>\n",
       "      <td>0.778963</td>\n",
       "      <td>24.930197</td>\n",
       "      <td>4.051784</td>\n",
       "      <td>48.536438</td>\n",
       "      <td>13.348414</td>\n",
       "      <td>9.133168</td>\n",
       "      <td>0.869042</td>\n",
       "    </tr>\n",
       "  </tbody>\n",
       "</table>\n",
       "<p>2 rows × 55 columns</p>\n",
       "</div>"
      ],
      "text/plain": [
       "     area_id  well_being       fat  saturate      salt      sugar   protein  \\\n",
       "0  E05000026    0.699065  9.488797  3.693721  0.583240  10.966213  4.977560   \n",
       "1  E05000027   -8.902220  9.733634  3.565913  0.568184  10.514427  5.211694   \n",
       "\n",
       "        carb     fibre   alcohol  ...  percentage_protein_energy  \\\n",
       "0  19.381951  1.564721  0.198172  ...                  10.640657   \n",
       "1  18.950348  1.581960  0.209917  ...                  11.051200   \n",
       "\n",
       "   percentage_carb_energy  percentage_fibre_energy  percentage_alcohol_energy  \\\n",
       "0               41.433292                 1.544686                   0.741364   \n",
       "1               40.183491                 1.546797                   0.778963   \n",
       "\n",
       "   percentage_fat_weight  percentage_fibre_weight  percentage_carb_weight  \\\n",
       "0              24.263835                 4.001153               49.561651   \n",
       "1              24.930197                 4.051784               48.536438   \n",
       "\n",
       "   percentage_protein_weight  percentage_saturate_weight     score  \n",
       "0                  12.728135                    9.445226  0.874300  \n",
       "1                  13.348414                    9.133168  0.869042  \n",
       "\n",
       "[2 rows x 55 columns]"
      ]
     },
     "execution_count": 16,
     "metadata": {},
     "output_type": "execute_result"
    }
   ],
   "source": [
    "df_healthy.head(2)"
   ]
  },
  {
   "cell_type": "markdown",
   "metadata": {},
   "source": [
    "### Perform Spearman rank correlation on the healthy score and well-being"
   ]
  },
  {
   "cell_type": "code",
   "execution_count": 17,
   "metadata": {},
   "outputs": [
    {
     "data": {
      "text/plain": [
       "SpearmanrResult(correlation=0.22672170628643162, pvalue=4.765268124884234e-07)"
      ]
     },
     "execution_count": 17,
     "metadata": {},
     "output_type": "execute_result"
    }
   ],
   "source": [
    "stats.spearmanr(df_healthy[\"score\"],df_healthy['well_being'])"
   ]
  },
  {
   "cell_type": "markdown",
   "metadata": {},
   "source": [
    "The p-value is lower than 0.05 and the correlation is positive. It seems that eating healthy according to Wikipedia leads to a high well-being."
   ]
  },
  {
   "cell_type": "markdown",
   "metadata": {},
   "source": [
    "## 2.2 Healthy score according to the FDA\n",
    "source: https://www.fda.gov/media/135301/download pages 4 to 6.\n",
    "\n",
    "We used the weight of each nutrient in the table and computed a percentage of nutrients that lead to a healthy diet according to the FDA. \n",
    "The table presents \"original\" and \"updated\" values, so we computed scores according to both."
   ]
  },
  {
   "cell_type": "code",
   "execution_count": 18,
   "metadata": {},
   "outputs": [],
   "source": [
    "foods_fda_updated = dict(zip([\"fat\", \"fibre\", \"carb\", \"protein\", \"saturate\"], [78, 28, 275, 50, 20]))\n",
    "foods_fda_old = dict(zip([\"fat\", \"fibre\", \"carb\", \"protein\", \"saturate\"], [65, 25, 300, 50, 20]))\n",
    "\n",
    "#saturate is included in fat so we do not include it in the sum of nutrients\n",
    "sum_values_fda_updated = sum(list(foods_fda_updated.values())[:-1])\n",
    "sum_values_fda_old = sum(list(foods_fda_old.values())[:-1])\n",
    "\n",
    "# compute percentage of nutrients for a healthy diet\n",
    "for food in foods_fda_updated.keys():\n",
    "    foods_fda_updated[food] = foods_fda_updated[food]/sum_values_fda_updated\n",
    "    foods_fda_old[food] = foods_fda_old[food]/sum_values_fda_old"
   ]
  },
  {
   "cell_type": "code",
   "execution_count": 19,
   "metadata": {},
   "outputs": [],
   "source": [
    "df_fda = df_healthy[[\"area_id\", \"well_being\", \"fat\", \"fibre\", \"carb\", \"protein\", \"saturate\"]]\n",
    "\n",
    "df_fda_percentage = df_fda.copy()\n",
    "\n",
    "#2:5 --> not the saturated for the sum because they are included in fat\n",
    "df_fda_percentage[\"weight_tot\"] = df_fda.iloc[:,2:5].sum(axis=1)\n",
    "\n",
    "#2:6 --> only for nutrients\n",
    "for nutrient in df_fda_percentage.columns[2:7]:\n",
    "    df_fda_percentage[\"percentage_%s\"%nutrient] = df_fda_percentage[\"%s\"%nutrient] / df_fda_percentage[\"weight_tot\"]"
   ]
  },
  {
   "cell_type": "markdown",
   "metadata": {},
   "source": [
    "Create a \"score\" column in the DataFrame using:\n",
    "\n",
    "$ score = 1 - \\sum_{nutrient} (HealthyPortion_{nutrient} - f_{nutrient})^2$\n",
    "\n",
    "The higher the score, the healthier the area eats. "
   ]
  },
  {
   "cell_type": "code",
   "execution_count": 20,
   "metadata": {},
   "outputs": [],
   "source": [
    "## Compute the scores according to the FDA (using the old and updated values)\n",
    "df_fda_percentage.loc[:,\"score_updated\"] = 0\n",
    "df_fda_percentage.loc[:,\"score_old\"] = 0\n",
    "\n",
    "for nutrient in  df_fda_percentage.columns[2:7]:\n",
    "    df_fda_percentage[\"score_updated\"] += (df_fda_percentage[\"percentage_%s\"%nutrient] - foods_fda_updated[nutrient])**2    \n",
    "    df_fda_percentage[\"score_old\"] += (df_fda_percentage[\"percentage_%s\"%nutrient] - foods_fda_old[nutrient])**2\n",
    "    \n",
    "df_fda_percentage[\"score_updated\"] = 1 - df_fda_percentage[\"score_updated\"]\n",
    "df_fda_percentage[\"score_old\"] = 1 - df_fda_percentage[\"score_old\"]"
   ]
  },
  {
   "cell_type": "code",
   "execution_count": 21,
   "metadata": {},
   "outputs": [
    {
     "data": {
      "text/html": [
       "<div>\n",
       "<style scoped>\n",
       "    .dataframe tbody tr th:only-of-type {\n",
       "        vertical-align: middle;\n",
       "    }\n",
       "\n",
       "    .dataframe tbody tr th {\n",
       "        vertical-align: top;\n",
       "    }\n",
       "\n",
       "    .dataframe thead th {\n",
       "        text-align: right;\n",
       "    }\n",
       "</style>\n",
       "<table border=\"1\" class=\"dataframe\">\n",
       "  <thead>\n",
       "    <tr style=\"text-align: right;\">\n",
       "      <th></th>\n",
       "      <th>area_id</th>\n",
       "      <th>well_being</th>\n",
       "      <th>fat</th>\n",
       "      <th>fibre</th>\n",
       "      <th>carb</th>\n",
       "      <th>protein</th>\n",
       "      <th>saturate</th>\n",
       "      <th>weight_tot</th>\n",
       "      <th>percentage_fat</th>\n",
       "      <th>percentage_fibre</th>\n",
       "      <th>percentage_carb</th>\n",
       "      <th>percentage_protein</th>\n",
       "      <th>percentage_saturate</th>\n",
       "      <th>score_updated</th>\n",
       "      <th>score_old</th>\n",
       "    </tr>\n",
       "  </thead>\n",
       "  <tbody>\n",
       "    <tr>\n",
       "      <th>0</th>\n",
       "      <td>E05000026</td>\n",
       "      <td>0.699065</td>\n",
       "      <td>9.488797</td>\n",
       "      <td>1.564721</td>\n",
       "      <td>19.381951</td>\n",
       "      <td>4.977560</td>\n",
       "      <td>3.693721</td>\n",
       "      <td>30.435469</td>\n",
       "      <td>0.311768</td>\n",
       "      <td>0.051411</td>\n",
       "      <td>0.636821</td>\n",
       "      <td>0.163545</td>\n",
       "      <td>0.121362</td>\n",
       "      <td>0.974829</td>\n",
       "      <td>0.962784</td>\n",
       "    </tr>\n",
       "    <tr>\n",
       "      <th>1</th>\n",
       "      <td>E05000027</td>\n",
       "      <td>-8.902220</td>\n",
       "      <td>9.733634</td>\n",
       "      <td>1.581960</td>\n",
       "      <td>18.950348</td>\n",
       "      <td>5.211694</td>\n",
       "      <td>3.565913</td>\n",
       "      <td>30.265942</td>\n",
       "      <td>0.321604</td>\n",
       "      <td>0.052269</td>\n",
       "      <td>0.626128</td>\n",
       "      <td>0.172197</td>\n",
       "      <td>0.117819</td>\n",
       "      <td>0.971663</td>\n",
       "      <td>0.957979</td>\n",
       "    </tr>\n",
       "  </tbody>\n",
       "</table>\n",
       "</div>"
      ],
      "text/plain": [
       "     area_id  well_being       fat     fibre       carb   protein  saturate  \\\n",
       "0  E05000026    0.699065  9.488797  1.564721  19.381951  4.977560  3.693721   \n",
       "1  E05000027   -8.902220  9.733634  1.581960  18.950348  5.211694  3.565913   \n",
       "\n",
       "   weight_tot  percentage_fat  percentage_fibre  percentage_carb  \\\n",
       "0   30.435469        0.311768          0.051411         0.636821   \n",
       "1   30.265942        0.321604          0.052269         0.626128   \n",
       "\n",
       "   percentage_protein  percentage_saturate  score_updated  score_old  \n",
       "0            0.163545             0.121362       0.974829   0.962784  \n",
       "1            0.172197             0.117819       0.971663   0.957979  "
      ]
     },
     "execution_count": 21,
     "metadata": {},
     "output_type": "execute_result"
    }
   ],
   "source": [
    "df_fda_percentage.head(2)"
   ]
  },
  {
   "cell_type": "markdown",
   "metadata": {},
   "source": [
    "### Perform Spearman rank correlation between the healthy scores and well-being"
   ]
  },
  {
   "cell_type": "code",
   "execution_count": 22,
   "metadata": {},
   "outputs": [
    {
     "data": {
      "text/plain": [
       "SpearmanrResult(correlation=-0.14228237280243905, pvalue=0.001719492165504676)"
      ]
     },
     "execution_count": 22,
     "metadata": {},
     "output_type": "execute_result"
    }
   ],
   "source": [
    "stats.spearmanr(df_fda_percentage[\"score_old\"],df_fda_percentage['well_being'])"
   ]
  },
  {
   "cell_type": "code",
   "execution_count": 23,
   "metadata": {},
   "outputs": [
    {
     "data": {
      "text/plain": [
       "SpearmanrResult(correlation=-0.13257400923253018, pvalue=0.003512028483104444)"
      ]
     },
     "execution_count": 23,
     "metadata": {},
     "output_type": "execute_result"
    }
   ],
   "source": [
    "stats.spearmanr(df_fda_percentage[\"score_updated\"],df_fda_percentage['well_being'])"
   ]
  },
  {
   "cell_type": "markdown",
   "metadata": {},
   "source": [
    "Both p-values are lower than 0.05 and both correlations are negative. According to the FDA, is eating healthy bad for one's well-being ?"
   ]
  },
  {
   "cell_type": "markdown",
   "metadata": {},
   "source": [
    "## 2.3 Plot well-being as a function of different features and the three scores \n",
    "(the empty plot is not an error but we have 39 plot for 40 slots). We see that there is rarely a correlation between the nutrients and energy, and the well-being. However, for some nutrients we can see a trend: \n",
    " - for `f_water` (row 1 column 4), the higher the fraction of water, the lower the well-being.\n",
    " - for `f_wine`  (row 2 column 5), the higher the fraction of wine, the higher the well-being.\n",
    " \n",
    "...interesting !!\n",
    "\n",
    "<img src=\"images/drake.jpg\" width=\"400\">\n",
    "<img src=\"images/correlation.jpg\" width=\"400\">\n",
    "\n"
   ]
  },
  {
   "cell_type": "code",
   "execution_count": null,
   "metadata": {},
   "outputs": [],
   "source": [
    "fig, axes = plt.subplots(nrows=11, ncols=5, tight_layout=True, figsize=(15, 15))\n",
    "\n",
    "for i, feature in enumerate(df_healthy.columns[2:-1]):\n",
    "    df_healthy.plot(x=feature, y='well_being', kind='scatter', ax=axes[i%11][i%5])"
   ]
  },
  {
   "cell_type": "markdown",
   "metadata": {},
   "source": [
    "Plot well-being as a function of the Wikipedia score and FDA old and updated scores. Sadly, we cannot see any correlation."
   ]
  },
  {
   "cell_type": "code",
   "execution_count": null,
   "metadata": {},
   "outputs": [],
   "source": [
    "fig, axes = plt.subplots(nrows=1, ncols=3, tight_layout=True, figsize=(10,5), sharey=True)\n",
    "df_fda_percentage.plot(x='score_old', y='well_being', kind='scatter', ax=axes[0], title='FDA\\'s old score')\n",
    "df_fda_percentage.plot(x='score_updated', y='well_being', kind='scatter', ax=axes[1], title='FDA\\'s updated score')\n",
    "df_healthy.plot(x='score', y='well_being', kind='scatter', ax=axes[2], title='Wikipedia\\'s score')\n",
    "\n",
    "for ax in axes:\n",
    "    ax.set_xlabel('Score', fontsize=15)\n",
    "fig.text(0.09, 0.5, 'Well-being', ha='center', va='center', rotation='vertical', fontsize=15)\n",
    "plt.suptitle(\"Well-being as a function of the three scores\", fontsize=20)\n",
    "plt.show()"
   ]
  },
  {
   "cell_type": "markdown",
   "metadata": {},
   "source": [
    "We cannot see a trend between the scores and well-being."
   ]
  },
  {
   "cell_type": "markdown",
   "metadata": {},
   "source": [
    "# 3. Spearman rank correlation\n",
    "\n",
    "We decided to perform a Spearman correlation between:\n",
    " - the entropy of nutrients and the well-being\n",
    " - the weight's fraction of food categories and the well-being"
   ]
  },
  {
   "cell_type": "code",
   "execution_count": null,
   "metadata": {},
   "outputs": [],
   "source": [
    "# Spearman rank correlation relative to the percentage weight for fda nutrients\n",
    "spearman_weight_fda = {}\n",
    "spearman_weight_fda_plot = {}\n",
    "\n",
    "for nutrient in fda_nutrients:\n",
    "    spearman_weight_fda[nutrient] = stats.spearmanr(df[\"percentage_%s_weight\"%nutrient],df[\"well_being\"])\n",
    "    spearman_weight_fda_plot[nutrient] = [spearman_weight_fda[nutrient].correlation]\n",
    "\n",
    "# Spearman rank correlation relative to the food categories\n",
    "food_categories = [\"fruit_veg\", \"grains\", \"dairy\", \"meat_red\", \"poultry\", \"eggs\", \"fish\"]\n",
    "spearman_categories = {}\n",
    "spearman_categories_plot = {}\n",
    "\n",
    "for category in food_categories:\n",
    "    spearman_categories[category] = stats.spearmanr(df[\"f_%s_weight\"%category],df['well_being'])\n",
    "    spearman_categories_plot[category] = [spearman_categories[category].correlation]\n",
    "    \n",
    "# Spearman rank correlation for scores\n",
    "spearman_weight_fda[\"score_old\"] = stats.spearmanr(df_fda_percentage[\"score_old\"], df_fda_percentage['well_being'])\n",
    "spearman_weight_fda_plot[\"score_old\"] = [spearman_weight_fda[\"score_old\"].correlation]\n",
    "spearman_weight_fda[\"score_updated\"] = stats.spearmanr(df_fda_percentage[\"score_updated\"], df_fda_percentage['well_being'])\n",
    "spearman_weight_fda_plot[\"score_updated\"] = [spearman_weight_fda[\"score_updated\"].correlation]\n",
    "\n",
    "spearman_categories[\"score\"] = stats.spearmanr(df_healthy[\"score\"], df_healthy['well_being'])\n",
    "spearman_categories_plot[\"score\"] = [spearman_categories[\"score\"].correlation]\n",
    "\n",
    "# Sort in increasing order\n",
    "spearman_weight_fda_plot = {key: value for key, value in sorted(spearman_weight_fda_plot.items(), key=lambda item: item[1])}\n",
    "spearman_categories_plot = {key: value for key, value in sorted(spearman_categories_plot.items(), key=lambda item: item[1])}"
   ]
  },
  {
   "cell_type": "code",
   "execution_count": null,
   "metadata": {},
   "outputs": [],
   "source": [
    "plt.figure(figsize=(12,6))\n",
    "sns.barplot(data=pd.DataFrame(spearman_categories_plot),\n",
    "            order=list(spearman_categories_plot.keys()), palette='flare')\n",
    "plt.title(\"Spearman rank correlation between the\\n percentage of food category and the well-being\", fontsize=20)\n",
    "plt.ylabel('R', fontsize=15)\n",
    "plt.gca().set_xticklabels(\n",
    "    labels=plt.gca().get_xticklabels(),\n",
    "    rotation=90, \n",
    "    horizontalalignment='center',\n",
    "    fontsize=15)\n",
    "plt.gcf().savefig(\"images/spearman_wiki_score.png\", bbox_inches='tight');"
   ]
  },
  {
   "cell_type": "code",
   "execution_count": null,
   "metadata": {},
   "outputs": [],
   "source": [
    "spearman_categories"
   ]
  },
  {
   "cell_type": "code",
   "execution_count": null,
   "metadata": {},
   "outputs": [],
   "source": [
    "plt.figure(figsize=(12,6))\n",
    "sns.barplot(data=pd.DataFrame(spearman_weight_fda_plot),\n",
    "            order=list(spearman_weight_fda_plot.keys()), palette='ch:s=.25,rot=.25,light=0.7')\n",
    "plt.title(\"Spearman rank correlation between the\\n weight's fraction of nutrients and the well-being\", fontsize=20)\n",
    "plt.ylabel('R', fontsize=15)\n",
    "plt.gca().set_xticklabels(\n",
    "    labels=plt.gca().get_xticklabels(),\n",
    "    rotation=90, \n",
    "    horizontalalignment='center',\n",
    "    fontsize=15)\n",
    "plt.gcf().savefig(\"images/spearman_fda_score.png\", bbox_inches='tight');"
   ]
  },
  {
   "cell_type": "code",
   "execution_count": null,
   "metadata": {},
   "outputs": [],
   "source": [
    "spearman_weight_fda"
   ]
  },
  {
   "cell_type": "markdown",
   "metadata": {},
   "source": [
    "In these correlations the p-value is always lower than 0.05 except for the weight and energy of fat. We can see that the correlation of fibre with well-being is high. The correlation between the entropy of nutrients and well-being is high and with a p-value lower than 0.05."
   ]
  },
  {
   "cell_type": "markdown",
   "metadata": {},
   "source": [
    "# 4. Regression\n",
    "## 4.1 Ordinary Least Squares regression\n",
    "\n",
    "We tried to to fit a linear regression model to :\n",
    " - the weight of nutrients \n",
    " - fraction of products purchased\n",
    " - Wikipedia healthy score\n",
    " - FDA healthy scores"
   ]
  },
  {
   "cell_type": "code",
   "execution_count": null,
   "metadata": {},
   "outputs": [],
   "source": [
    "# Fit linear regression model to nutrients\n",
    "mod = smf.ols(formula='well_being ~  fat + sugar + alcohol + carb + saturate + protein + fibre', data=df)\n",
    "res = mod.fit()\n",
    "print(res.summary())"
   ]
  },
  {
   "cell_type": "code",
   "execution_count": null,
   "metadata": {},
   "outputs": [],
   "source": [
    "# Fit logistic regression model to foods\n",
    "mod = smf.ols(formula='well_being ~  f_beer + f_dairy + f_eggs + f_fats_oils + f_fish + f_fruit_veg + f_grains +'\n",
    "              + 'f_meat_red + f_poultry + f_readymade + f_sauces + f_soft_drinks + f_spirits + f_sweets + '\n",
    "              + 'f_tea_coffee + f_water + f_wine', data=df)\n",
    "res = mod.fit()\n",
    "print(res.summary())"
   ]
  },
  {
   "cell_type": "code",
   "execution_count": null,
   "metadata": {},
   "outputs": [],
   "source": [
    "pvalues = res.pvalues\n",
    "coeffs = res.params\n",
    "\n",
    "# keep only statistically significant coeffs\n",
    "coeffs = coeffs.where(pvalues.values < 0.05).dropna()\n",
    "coeffs = {key: value for key, value in sorted(coeffs.items(), key=lambda item: item[1])}\n",
    "\n",
    "# remove \"f_\" from keys\n",
    "old_coeffs = coeffs\n",
    "coeffs = {}\n",
    "for key in list(old_coeffs.keys()):\n",
    "    coeffs[key[2:]] = [old_coeffs[key]]\n",
    "\n",
    "fig = plt.figure(figsize=(9,6))\n",
    "ax = sns.barplot(data=pd.DataFrame(coeffs), palette='ch:s=-10,rot=0.005,light=0.7')\n",
    "plt.title(\"Regression coefficients of food category\", fontsize=20)\n",
    "plt.ylabel('Value', fontsize=15)\n",
    "ax.set_xticklabels(\n",
    "    labels=ax.get_xticklabels(),\n",
    "    rotation=90, \n",
    "    horizontalalignment='center',\n",
    "    fontsize=15)\n",
    "plt.gcf().savefig(\"images/regression_cat_coeffs.png\", bbox_inches='tight');"
   ]
  },
  {
   "cell_type": "code",
   "execution_count": null,
   "metadata": {},
   "outputs": [],
   "source": [
    "# Fit logistic regression model to Wikipedia's score\n",
    "mod = smf.ols(formula='well_being ~ score', data=df_healthy)\n",
    "res = mod.fit()\n",
    "print(res.summary())"
   ]
  },
  {
   "cell_type": "code",
   "execution_count": null,
   "metadata": {},
   "outputs": [],
   "source": [
    "# Fit logistic regression model to FDA's old score\n",
    "mod = smf.ols(formula='well_being ~ score_old', data=df_fda_percentage)\n",
    "res = mod.fit()\n",
    "print(res.summary())"
   ]
  },
  {
   "cell_type": "code",
   "execution_count": null,
   "metadata": {},
   "outputs": [],
   "source": [
    "# Fit logistic regression model to FDA's updated score\n",
    "mod = smf.ols(formula='well_being ~ score_updated', data=df_fda_percentage)\n",
    "res = mod.fit()\n",
    "print(res.summary())"
   ]
  },
  {
   "cell_type": "code",
   "execution_count": null,
   "metadata": {},
   "outputs": [],
   "source": [
    "fig, axes = plt.subplots(1,3,figsize=(18,6), sharey=True)\n",
    "\n",
    "score_names = [\"score\", \"score_old\", \"score_updated\"]\n",
    "snames = [\"Wikipedia score\", \"Old FDA score\", \"Updated FDA score\"]\n",
    "dfs = [df_healthy, df_fda_percentage, df_fda_percentage]\n",
    "for ax, score_name, temp_df, name in zip(axes, score_names, dfs, snames):\n",
    "    plt.sca(ax)\n",
    "    sns.regplot(x=score_name, y=\"well_being\", data=temp_df)\n",
    "    ax.set_xlabel(name, fontsize=15)\n",
    "    ax.set_ylabel(\"\")\n",
    "\n",
    "fig.text(0.09, 0.5, 'Well-being', ha='center', va='center', rotation='vertical', fontsize=15)\n",
    "fig.suptitle(\"Regression for the three different scores\", fontsize=20)\n",
    "fig.savefig(\"images/regression_scores.png\", bbox_inches='tight')"
   ]
  },
  {
   "cell_type": "markdown",
   "metadata": {},
   "source": [
    "In the three regressions, R-squared is low so the explained variance is low. The low explained variance is much apparent on the above plots. The p-value is lower than 0.05 so we would need more parameters than the scores to explain the well-being."
   ]
  },
  {
   "cell_type": "markdown",
   "metadata": {},
   "source": [
    "## 4.2 Logit regression on the well-being"
   ]
  },
  {
   "cell_type": "markdown",
   "metadata": {},
   "source": [
    "Plot the distribution of the well-being. Scores over 0 indicate a higher probability that the population on average experiences positive well-being. We decided to try to transform the problem in a classification problem with two classes: happy (well-being>=0) and unhappy (well-being<0)."
   ]
  },
  {
   "cell_type": "code",
   "execution_count": null,
   "metadata": {},
   "outputs": [],
   "source": [
    "sns_plot = sns.displot(df_fda_percentage[\"well_being\"], kde=True, height=4, aspect=2)\n",
    "plt.title('Distribution of the well-being', fontsize=20)\n",
    "plt.xlabel(\"Well-being\", fontsize=15)\n",
    "plt.ylabel(plt.gca().get_ylabel(), fontsize=15)\n",
    "plt.show()\n",
    "sns_plot.savefig(\"images/distrib_well_being\", bbox_inches='tight');"
   ]
  },
  {
   "cell_type": "markdown",
   "metadata": {},
   "source": [
    "### Create 'well' variable for FDA definition \n",
    "`well` is zero for negative well-being and one for positive well-being."
   ]
  },
  {
   "cell_type": "code",
   "execution_count": null,
   "metadata": {},
   "outputs": [],
   "source": [
    "# Create the column in the FDA DataFrame\n",
    "df_fda_wellness = df_fda_percentage.copy()\n",
    "df_fda_wellness.loc[df_fda_wellness['well_being'] >= 0, 'well'] = 1\n",
    "df_fda_wellness.loc[df_fda_wellness['well_being'] < 0, 'well'] = 0"
   ]
  },
  {
   "cell_type": "code",
   "execution_count": null,
   "metadata": {},
   "outputs": [],
   "source": [
    "df_fda_wellness.head(2)"
   ]
  },
  {
   "cell_type": "markdown",
   "metadata": {},
   "source": [
    "Let's plot the classes as a function of the updated FDA healthy diet score. Sadly, the plot shows no clear tendency."
   ]
  },
  {
   "cell_type": "code",
   "execution_count": null,
   "metadata": {},
   "outputs": [],
   "source": [
    "ax = df_fda_wellness.plot(x='score_updated', y='well', kind='scatter', figsize=(9,4))\n",
    "plt.title('Classifier groundtruth with respect to FDA score', fontsize=20)\n",
    "plt.xlabel(\"FDA score\", fontsize=15)\n",
    "plt.ylabel(\"Groundtruth\", fontsize=15)\n",
    "plt.show()\n",
    "ax.get_figure().savefig(\"images/well_fda_score.png\", bbox_inches='tight')"
   ]
  },
  {
   "cell_type": "markdown",
   "metadata": {},
   "source": [
    "### Create 'well' variable for Wikipedia definition \n",
    "well is zero for negative well-being and one for positive well-being."
   ]
  },
  {
   "cell_type": "code",
   "execution_count": null,
   "metadata": {},
   "outputs": [],
   "source": [
    "# Create the column in the Wikipedia DataFrame\n",
    "df_healthy_well = df_healthy.copy()\n",
    "\n",
    "df_healthy_well.loc[df_healthy_well['well_being'] >= 0, 'well'] = 1\n",
    "df_healthy_well.loc[df_healthy_well['well_being'] < 0, 'well'] = 0"
   ]
  },
  {
   "cell_type": "code",
   "execution_count": null,
   "metadata": {},
   "outputs": [],
   "source": [
    "df_healthy_well.head(2)"
   ]
  },
  {
   "cell_type": "markdown",
   "metadata": {},
   "source": [
    "Let's plot the classes as a function of the healthy diet score. Sadly, the plot shows no clear tendency."
   ]
  },
  {
   "cell_type": "code",
   "execution_count": null,
   "metadata": {},
   "outputs": [],
   "source": [
    "ax = df_healthy_well.plot(x='score', y='well', kind='scatter', figsize=(9,4))\n",
    "plt.title('Classifier groundtruth with respect to Wikipedia score', fontsize=20)\n",
    "plt.xlabel(\"Wikipedia score\", fontsize=15)\n",
    "plt.ylabel(\"Groundtruth\", fontsize=15)\n",
    "plt.show()\n",
    "ax.get_figure().savefig(\"images/well_wiki_score.png\", bbox_inches='tight');"
   ]
  },
  {
   "cell_type": "markdown",
   "metadata": {},
   "source": [
    "# 5. Classifier\n",
    "\n",
    "We decided to train a classifier to predict the class (positive or negative well-being) for each area."
   ]
  },
  {
   "cell_type": "code",
   "execution_count": null,
   "metadata": {},
   "outputs": [],
   "source": [
    "# Split into train and test\n",
    "X = df_fda_wellness[[\"score_updated\", \"percentage_fat\", \"percentage_fibre\", \"percentage_carb\", \"percentage_protein\", \"percentage_saturate\"]]\n",
    "y = df_fda_wellness[\"well\"]\n",
    "\n",
    "X_train, X_test, y_train, y_test = train_test_split(X, y, test_size=0.33, random_state=SEED)"
   ]
  },
  {
   "cell_type": "code",
   "execution_count": null,
   "metadata": {},
   "outputs": [],
   "source": [
    "# Use a Random Forest Classifier to predict labels\n",
    "N_values  = np.array([int(i) for i in np.linspace(5.0, 200, 5)])\n",
    "model     = RandomForestClassifier(random_state=SEED)\n",
    "cv_schema = StratifiedKFold(n_splits=3, random_state=SEED, shuffle=True)\n",
    "\n",
    "train_scores_val, cv_scores_val = validation_curve(model, X_train, y_train,\n",
    "                                                   scoring='accuracy',\n",
    "                                                   param_name = \"n_estimators\", \n",
    "                                                   param_range = N_values,\n",
    "                                                   cv=cv_schema)"
   ]
  },
  {
   "cell_type": "code",
   "execution_count": null,
   "metadata": {},
   "outputs": [],
   "source": [
    "# Plot a validation curve across levels of K\n",
    "random_forest_fig = plt.figure(figsize=(18,8))\n",
    "plot_validation_curve(train_scores_val,\n",
    "                      cv_scores_val,\n",
    "                      N_values, y_label='F1-score',\n",
    "                      ylim = [0.5, 1.1],\n",
    "                      x_label='Number of trees N',\n",
    "                      save_image=True,\n",
    "                      save_name=\"valid_curve.png\")"
   ]
  },
  {
   "cell_type": "code",
   "execution_count": null,
   "metadata": {},
   "outputs": [],
   "source": [
    "# Best random forest\n",
    "thresh = 0.5\n",
    "\n",
    "RF = RandomForestClassifier(n_estimators=60, n_jobs =-1, random_state=SEED)\n",
    "RF.fit(X_train, y_train)\n",
    "y_hat = RF.predict_proba(X_test)[:,1] > thresh\n",
    "cm = confusion_matrix(y_test, y_hat)\n",
    "precision = precision_score(y_test, y_hat)\n",
    "recall = recall_score(y_test, y_hat)\n",
    "title = \"Best model\\n(beta=0.2)\\nPrecision: {}\\nRecall: {}\".format(round(precision, 3), round(recall, 3))\n",
    "plot_confusion_matrix(cm, title=title, save_image=True, save_name=\"confusion_matrix.png\")\n",
    "\n",
    "plt.show()"
   ]
  },
  {
   "cell_type": "markdown",
   "metadata": {},
   "source": [
    "---"
   ]
  }
 ],
 "metadata": {
  "kernelspec": {
   "display_name": "Python 3",
   "language": "python",
   "name": "python3"
  },
  "language_info": {
   "codemirror_mode": {
    "name": "ipython",
    "version": 3
   },
   "file_extension": ".py",
   "mimetype": "text/x-python",
   "name": "python",
   "nbconvert_exporter": "python",
   "pygments_lexer": "ipython3",
   "version": "3.8.5"
  }
 },
 "nbformat": 4,
 "nbformat_minor": 4
}
